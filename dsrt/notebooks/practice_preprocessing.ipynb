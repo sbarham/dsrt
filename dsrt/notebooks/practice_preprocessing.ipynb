{
 "cells": [
  {
   "cell_type": "code",
   "execution_count": 1,
   "metadata": {
    "collapsed": true
   },
   "outputs": [],
   "source": [
    "from sklearn.preprocessing import LabelEncoder\n",
    "from sklearn.preprocessing import OneHotEncoder"
   ]
  },
  {
   "cell_type": "code",
   "execution_count": 2,
   "metadata": {
    "collapsed": true
   },
   "outputs": [],
   "source": [
    "le = LabelEncoder()\n",
    "ohe = OneHotEncoder(sparse=False)"
   ]
  },
  {
   "cell_type": "code",
   "execution_count": 3,
   "metadata": {
    "collapsed": true
   },
   "outputs": [],
   "source": [
    "path_to_corpus = '../corpora/cornell-movie/dialogues.txt'"
   ]
  },
  {
   "cell_type": "code",
   "execution_count": 29,
   "metadata": {},
   "outputs": [],
   "source": [
    "with open(path_to_corpus, 'r') as f:\n",
    "    lines = list(f)\n",
    "        \n",
    "# each line is a discrete dialogue, with utterances\n",
    "# tab-delimited\n",
    "dialogues = []\n",
    "t_dialogues = []\n",
    "utterances = []\n",
    "t_utterances = []\n",
    "words = []\n",
    "for i, line in enumerate(lines):\n",
    "    dialogue = line.split('\\t')[:-1]\n",
    "    \n",
    "    t_dialogue = []\n",
    "    for utt in dialogue:\n",
    "        t_utt = utt.split(' ')\n",
    "        t_dialogue += [t_utt]\n",
    "        words += t_utt\n",
    "    \n",
    "    dialogues += [dialogue] # add the dialogue (i.e., list of utterances)\n",
    "    utterances += dialogue # add the utterances to the flattened list of all utterances\n",
    "    t_dialogues += [t_dialogue]\n",
    "    t_utterances += t_dialogue"
   ]
  },
  {
   "cell_type": "code",
   "execution_count": 30,
   "metadata": {},
   "outputs": [
    {
     "data": {
      "text/plain": [
       "['can we make this quick ? <unk> <unk> and andrew barrett are having an incredibly <unk> public <unk> up on the <unk> . again .',\n",
       " \"well , i thought we 'd start with <unk> , if that 's okay with you .\",\n",
       " 'not the <unk> and <unk> and spitting part . please .',\n",
       " \"okay ... then how 'bout we try out some french <unk> . saturday ? night ?\"]"
      ]
     },
     "execution_count": 30,
     "metadata": {},
     "output_type": "execute_result"
    }
   ],
   "source": [
    "dialogues[0]"
   ]
  },
  {
   "cell_type": "code",
   "execution_count": 31,
   "metadata": {},
   "outputs": [
    {
     "data": {
      "text/plain": [
       "'can we make this quick ? <unk> <unk> and andrew barrett are having an incredibly <unk> public <unk> up on the <unk> . again .'"
      ]
     },
     "execution_count": 31,
     "metadata": {},
     "output_type": "execute_result"
    }
   ],
   "source": [
    "utterances[0]"
   ]
  },
  {
   "cell_type": "code",
   "execution_count": 32,
   "metadata": {},
   "outputs": [
    {
     "data": {
      "text/plain": [
       "4180266"
      ]
     },
     "execution_count": 32,
     "metadata": {},
     "output_type": "execute_result"
    }
   ],
   "source": [
    "len(words)"
   ]
  },
  {
   "cell_type": "code",
   "execution_count": 33,
   "metadata": {},
   "outputs": [
    {
     "data": {
      "text/plain": [
       "'can'"
      ]
     },
     "execution_count": 33,
     "metadata": {},
     "output_type": "execute_result"
    }
   ],
   "source": [
    "words[0]"
   ]
  },
  {
   "cell_type": "code",
   "execution_count": 34,
   "metadata": {},
   "outputs": [
    {
     "data": {
      "text/plain": [
       "[['can',\n",
       "  'we',\n",
       "  'make',\n",
       "  'this',\n",
       "  'quick',\n",
       "  '?',\n",
       "  '<unk>',\n",
       "  '<unk>',\n",
       "  'and',\n",
       "  'andrew',\n",
       "  'barrett',\n",
       "  'are',\n",
       "  'having',\n",
       "  'an',\n",
       "  'incredibly',\n",
       "  '<unk>',\n",
       "  'public',\n",
       "  '<unk>',\n",
       "  'up',\n",
       "  'on',\n",
       "  'the',\n",
       "  '<unk>',\n",
       "  '.',\n",
       "  'again',\n",
       "  '.'],\n",
       " ['well',\n",
       "  ',',\n",
       "  'i',\n",
       "  'thought',\n",
       "  'we',\n",
       "  \"'d\",\n",
       "  'start',\n",
       "  'with',\n",
       "  '<unk>',\n",
       "  ',',\n",
       "  'if',\n",
       "  'that',\n",
       "  \"'s\",\n",
       "  'okay',\n",
       "  'with',\n",
       "  'you',\n",
       "  '.'],\n",
       " ['not',\n",
       "  'the',\n",
       "  '<unk>',\n",
       "  'and',\n",
       "  '<unk>',\n",
       "  'and',\n",
       "  'spitting',\n",
       "  'part',\n",
       "  '.',\n",
       "  'please',\n",
       "  '.'],\n",
       " ['okay',\n",
       "  '...',\n",
       "  'then',\n",
       "  'how',\n",
       "  \"'bout\",\n",
       "  'we',\n",
       "  'try',\n",
       "  'out',\n",
       "  'some',\n",
       "  'french',\n",
       "  '<unk>',\n",
       "  '.',\n",
       "  'saturday',\n",
       "  '?',\n",
       "  'night',\n",
       "  '?']]"
      ]
     },
     "execution_count": 34,
     "metadata": {},
     "output_type": "execute_result"
    }
   ],
   "source": [
    "t_dialogues[0]"
   ]
  },
  {
   "cell_type": "code",
   "execution_count": 35,
   "metadata": {},
   "outputs": [
    {
     "data": {
      "text/plain": [
       "['can',\n",
       " 'we',\n",
       " 'make',\n",
       " 'this',\n",
       " 'quick',\n",
       " '?',\n",
       " '<unk>',\n",
       " '<unk>',\n",
       " 'and',\n",
       " 'andrew',\n",
       " 'barrett',\n",
       " 'are',\n",
       " 'having',\n",
       " 'an',\n",
       " 'incredibly',\n",
       " '<unk>',\n",
       " 'public',\n",
       " '<unk>',\n",
       " 'up',\n",
       " 'on',\n",
       " 'the',\n",
       " '<unk>',\n",
       " '.',\n",
       " 'again',\n",
       " '.']"
      ]
     },
     "execution_count": 35,
     "metadata": {},
     "output_type": "execute_result"
    }
   ],
   "source": [
    "t_utterances[0]"
   ]
  },
  {
   "cell_type": "code",
   "execution_count": 45,
   "metadata": {
    "collapsed": true
   },
   "outputs": [],
   "source": [
    "vocab = set(words)"
   ]
  },
  {
   "cell_type": "code",
   "execution_count": 48,
   "metadata": {},
   "outputs": [
    {
     "data": {
      "text/plain": [
       "10001"
      ]
     },
     "execution_count": 48,
     "metadata": {},
     "output_type": "execute_result"
    }
   ],
   "source": [
    "len(list(vocab))"
   ]
  },
  {
   "cell_type": "code",
   "execution_count": 47,
   "metadata": {},
   "outputs": [],
   "source": [
    "ie_words = le.fit_transform(list(vocab))"
   ]
  },
  {
   "cell_type": "code",
   "execution_count": 49,
   "metadata": {
    "collapsed": true
   },
   "outputs": [],
   "source": [
    "integer_encoded = le.transform(t_utterances[0])"
   ]
  },
  {
   "cell_type": "code",
   "execution_count": 50,
   "metadata": {},
   "outputs": [
    {
     "data": {
      "text/plain": [
       "array([1382, 9651, 5410, 8971, 7051,  123,  121,  121,  422,  424,  802,\n",
       "        536, 4092,  411, 4473,  121, 6973,  121, 9387, 6211, 8920,  121,\n",
       "         50,  278,   50])"
      ]
     },
     "execution_count": 50,
     "metadata": {},
     "output_type": "execute_result"
    }
   ],
   "source": [
    "integer_encoded"
   ]
  },
  {
   "cell_type": "code",
   "execution_count": 52,
   "metadata": {},
   "outputs": [
    {
     "data": {
      "text/plain": [
       "OneHotEncoder(categorical_features='all', dtype=<class 'numpy.float64'>,\n",
       "       handle_unknown='error', n_values='auto', sparse=False)"
      ]
     },
     "execution_count": 52,
     "metadata": {},
     "output_type": "execute_result"
    }
   ],
   "source": [
    "ohe.fit(ie_words.reshape(len(ie_words), 1))"
   ]
  },
  {
   "cell_type": "code",
   "execution_count": 55,
   "metadata": {},
   "outputs": [],
   "source": [
    "ohe_encoded = ohe.transform(integer_encoded.reshape(len(integer_encoded), 1))"
   ]
  },
  {
   "cell_type": "code",
   "execution_count": 56,
   "metadata": {},
   "outputs": [
    {
     "data": {
      "text/plain": [
       "array([[ 0.,  0.,  0., ...,  0.,  0.,  0.],\n",
       "       [ 0.,  0.,  0., ...,  0.,  0.,  0.],\n",
       "       [ 0.,  0.,  0., ...,  0.,  0.,  0.],\n",
       "       ..., \n",
       "       [ 0.,  0.,  0., ...,  0.,  0.,  0.],\n",
       "       [ 0.,  0.,  0., ...,  0.,  0.,  0.],\n",
       "       [ 0.,  0.,  0., ...,  0.,  0.,  0.]])"
      ]
     },
     "execution_count": 56,
     "metadata": {},
     "output_type": "execute_result"
    }
   ],
   "source": [
    "ohe_encoded"
   ]
  },
  {
   "cell_type": "code",
   "execution_count": 57,
   "metadata": {
    "collapsed": true
   },
   "outputs": [],
   "source": [
    "from numpy import argmax"
   ]
  },
  {
   "cell_type": "code",
   "execution_count": 62,
   "metadata": {},
   "outputs": [],
   "source": [
    "ie_encoded_test = [argmax(ohe_encoded[i, :]) for i in range(len(ohe_encoded))]"
   ]
  },
  {
   "cell_type": "code",
   "execution_count": 65,
   "metadata": {},
   "outputs": [
    {
     "data": {
      "text/plain": [
       "array([ True,  True,  True,  True,  True,  True,  True,  True,  True,\n",
       "        True,  True,  True,  True,  True,  True,  True,  True,  True,\n",
       "        True,  True,  True,  True,  True,  True,  True], dtype=bool)"
      ]
     },
     "execution_count": 65,
     "metadata": {},
     "output_type": "execute_result"
    }
   ],
   "source": [
    "ie_encoded_test == integer_encoded"
   ]
  },
  {
   "cell_type": "code",
   "execution_count": 66,
   "metadata": {
    "collapsed": true
   },
   "outputs": [],
   "source": [
    "max_utterance_length = max([len(u) for u in t_utterances])"
   ]
  },
  {
   "cell_type": "code",
   "execution_count": 67,
   "metadata": {},
   "outputs": [
    {
     "data": {
      "text/plain": [
       "684"
      ]
     },
     "execution_count": 67,
     "metadata": {},
     "output_type": "execute_result"
    }
   ],
   "source": [
    "max_utterance_length"
   ]
  },
  {
   "cell_type": "code",
   "execution_count": 68,
   "metadata": {
    "collapsed": true
   },
   "outputs": [],
   "source": [
    "max_utterance_index = argmax([len(u) for u in t_utterances])"
   ]
  },
  {
   "cell_type": "code",
   "execution_count": 69,
   "metadata": {},
   "outputs": [
    {
     "data": {
      "text/plain": [
       "\"then let 's begin with the story itself . it 's a story of the grail myth ... and although there are several <unk> , my favorite begins with the fisher king as a young boy ... who had to spend a night alone in the forest to prove his courage ... and during that night , he is visited by a sacred vision . out of the fire , appears the holy grail - god 's highest symbol of divine grace . and a voice says to the boy , `` you shall be the guardian of the grail , that it may heal the hearts of men '' ... but the boy was overcome ... innocent and foolish , he was <unk> by greater <unk> - a life ahead filled with beauty and glory , hope and power ... tears filled his eyes as he sensed his own ... <unk> . a boy 's tears of naive wonder and inspiration . and in this state of ... radical <unk> ... he felt for a brief moment , not like a boy , but like god ... ... and so he reached into the fire to take the grail . and the grail vanished . and the boy hands were left caught in the flames ... leaving him wounded and ashamed at what his <unk> had lost him . when he became king , he was determined to <unk> his destiny and find the grail ... but with each year that passed , with each campaign he fought , the grail <unk> lost , and this wound he suffered in the fire grew worse ... he became a bitter man . life for him lost it 's reason . with each disappointment , with each betrayal ... with each loss ... this wound would grow ... soon the land began to spoil from <unk> and his people starved ... until finally , the king lost all faith in god 's <unk> and in man 's value ... he lost his ability to love or be loved and he was so sick with experience ... that he started to die . as the years went on , his <unk> knights would search for the grail that would heal their king and make them the most respected and <unk> men in the land , but to no <unk> . pretty soon , finding the grail became a ruthless struggle between ambitious men <unk> for the king 's power , which only confirmed the king 's worst suspicions of man , causing his wound to grow . his only hope , he thought , was death . then one day , a fool was brought in to the king to cheer him . he was a <unk> man ... not particularly <unk> ... or admired ... he tells the king some jokes ... sing him some songs , but the king feels even worse ... finally , the fool says , `` what is it that hurts you so much ? how can i help ? `` ... and the king says , `` i need a sip of water to cool my throat '' ... so , the fool takes a cup from the <unk> , <unk> it with water and hands it to the king ... suddenly , the king feels a lot better . and when he looks to his hands , he sees that it was the holy grail the fool handed him ... an ordinary cup that had been beside his bed all along ... and the king asks , `` how can this be ? ... how could you find what all my knights and <unk> men could not find '' ? and the fool answers , `` i do n't know . i only knew you were <unk> '' ... and for the first time since he was a boy , the king felt more than a man - not because he was touched by god 's glory ... but rather , by the compassion of a fool .\""
      ]
     },
     "execution_count": 69,
     "metadata": {},
     "output_type": "execute_result"
    }
   ],
   "source": [
    "utterances[max_utterance_index]"
   ]
  },
  {
   "cell_type": "code",
   "execution_count": 74,
   "metadata": {},
   "outputs": [
    {
     "data": {
      "text/plain": [
       "[25, 17, 11, 16]"
      ]
     },
     "execution_count": 74,
     "metadata": {},
     "output_type": "execute_result"
    }
   ],
   "source": [
    "seqlens_dia = []\n",
    "seqlens_utt = []\n",
    "for t_dialogue in t_dialogues:\n",
    "    # get dialogue length\n",
    "    seqlens_dia += [len(t_dialogue)]\n",
    "    \n",
    "    # get constituent utterances lengths\n",
    "    lens = [len(u) for u in t_dialogue]\n",
    "    seqlens_utt += [lens]\n",
    "    \n",
    "seqlens_utt[0]"
   ]
  },
  {
   "cell_type": "code",
   "execution_count": 75,
   "metadata": {},
   "outputs": [
    {
     "data": {
      "text/plain": [
       "4"
      ]
     },
     "execution_count": 75,
     "metadata": {},
     "output_type": "execute_result"
    }
   ],
   "source": [
    "len(t_dialogues[0])"
   ]
  },
  {
   "cell_type": "code",
   "execution_count": 76,
   "metadata": {},
   "outputs": [
    {
     "data": {
      "text/plain": [
       "25"
      ]
     },
     "execution_count": 76,
     "metadata": {},
     "output_type": "execute_result"
    }
   ],
   "source": [
    "len(t_dialogues[0][0])"
   ]
  },
  {
   "cell_type": "code",
   "execution_count": 77,
   "metadata": {},
   "outputs": [
    {
     "data": {
      "text/plain": [
       "4"
      ]
     },
     "execution_count": 77,
     "metadata": {},
     "output_type": "execute_result"
    }
   ],
   "source": [
    "seqlens_dia[0]"
   ]
  },
  {
   "cell_type": "code",
   "execution_count": 78,
   "metadata": {
    "collapsed": true
   },
   "outputs": [],
   "source": [
    "ie = LabelEncoder()\n",
    "ohe = OneHotEncoder(sparse=False)\n",
    "\n",
    "vocab = list(set(words))\n",
    "        \n",
    "# fit the encoders to the corpus vocabulary\n",
    "ie_vocab = ie.fit_transform(vocab)\n",
    "ohe_vocab = ohe.fit_transform(ie_vocab.reshape(len(ie_vocab), 1))"
   ]
  },
  {
   "cell_type": "code",
   "execution_count": 79,
   "metadata": {},
   "outputs": [
    {
     "data": {
      "text/plain": [
       "array([ 0.,  0.,  0., ...,  0.,  0.,  0.])"
      ]
     },
     "execution_count": 79,
     "metadata": {},
     "output_type": "execute_result"
    }
   ],
   "source": [
    "ohe_vocab[0]"
   ]
  },
  {
   "cell_type": "code",
   "execution_count": 80,
   "metadata": {},
   "outputs": [
    {
     "data": {
      "text/plain": [
       "4075"
      ]
     },
     "execution_count": 80,
     "metadata": {},
     "output_type": "execute_result"
    }
   ],
   "source": [
    "argmax(ohe_vocab[0])"
   ]
  },
  {
   "cell_type": "code",
   "execution_count": 81,
   "metadata": {},
   "outputs": [
    {
     "data": {
      "text/plain": [
       "'hate'"
      ]
     },
     "execution_count": 81,
     "metadata": {},
     "output_type": "execute_result"
    }
   ],
   "source": [
    "le.inverse_transform(argmax(ohe_vocab[0]))"
   ]
  },
  {
   "cell_type": "code",
   "execution_count": 82,
   "metadata": {},
   "outputs": [
    {
     "data": {
      "text/plain": [
       "'can'"
      ]
     },
     "execution_count": 82,
     "metadata": {},
     "output_type": "execute_result"
    }
   ],
   "source": [
    "words[0]"
   ]
  },
  {
   "cell_type": "code",
   "execution_count": 83,
   "metadata": {},
   "outputs": [
    {
     "data": {
      "text/plain": [
       "'hate'"
      ]
     },
     "execution_count": 83,
     "metadata": {},
     "output_type": "execute_result"
    }
   ],
   "source": [
    "vocab[0]"
   ]
  },
  {
   "cell_type": "code",
   "execution_count": 85,
   "metadata": {},
   "outputs": [],
   "source": [
    "utterance = t_utterances[0]"
   ]
  },
  {
   "cell_type": "code",
   "execution_count": 86,
   "metadata": {},
   "outputs": [
    {
     "data": {
      "text/plain": [
       "['can',\n",
       " 'we',\n",
       " 'make',\n",
       " 'this',\n",
       " 'quick',\n",
       " '?',\n",
       " '<unk>',\n",
       " '<unk>',\n",
       " 'and',\n",
       " 'andrew',\n",
       " 'barrett',\n",
       " 'are',\n",
       " 'having',\n",
       " 'an',\n",
       " 'incredibly',\n",
       " '<unk>',\n",
       " 'public',\n",
       " '<unk>',\n",
       " 'up',\n",
       " 'on',\n",
       " 'the',\n",
       " '<unk>',\n",
       " '.',\n",
       " 'again',\n",
       " '.']"
      ]
     },
     "execution_count": 86,
     "metadata": {},
     "output_type": "execute_result"
    }
   ],
   "source": [
    "utterance"
   ]
  },
  {
   "cell_type": "code",
   "execution_count": 87,
   "metadata": {},
   "outputs": [
    {
     "data": {
      "text/plain": [
       "array([[ 0.,  0.,  0., ...,  0.,  0.,  0.],\n",
       "       [ 0.,  0.,  0., ...,  0.,  0.,  0.],\n",
       "       [ 0.,  0.,  0., ...,  0.,  0.,  0.],\n",
       "       ..., \n",
       "       [ 0.,  0.,  0., ...,  0.,  0.,  0.],\n",
       "       [ 0.,  0.,  0., ...,  0.,  0.,  0.],\n",
       "       [ 0.,  0.,  0., ...,  0.,  0.,  0.]])"
      ]
     },
     "execution_count": 87,
     "metadata": {},
     "output_type": "execute_result"
    }
   ],
   "source": [
    "# vectorize an utterance\n",
    "ie_utterance = ie.transform(utterance)\n",
    "ohe_utterance = ohe.transform(ie_utterance.reshape(len(ie_utterance), 1))\n",
    "ohe_utterance"
   ]
  },
  {
   "cell_type": "code",
   "execution_count": 88,
   "metadata": {},
   "outputs": [
    {
     "data": {
      "text/plain": [
       "array(['can', 'we', 'make', 'this', 'quick', '?', '<unk>', '<unk>', 'and',\n",
       "       'andrew', 'barrett', 'are', 'having', 'an', 'incredibly', '<unk>',\n",
       "       'public', '<unk>', 'up', 'on', 'the', '<unk>', '.', 'again', '.'],\n",
       "      dtype='<U16')"
      ]
     },
     "execution_count": 88,
     "metadata": {},
     "output_type": "execute_result"
    }
   ],
   "source": [
    "# now transform it back\n",
    "ie_utterance = [argmax(w) for w in ohe_utterance]\n",
    "utterance = le.inverse_transform(ie_utterance)\n",
    "utterance"
   ]
  },
  {
   "cell_type": "code",
   "execution_count": null,
   "metadata": {
    "collapsed": true
   },
   "outputs": [],
   "source": []
  }
 ],
 "metadata": {
  "kernelspec": {
   "display_name": "Python 3",
   "language": "python",
   "name": "python3"
  },
  "language_info": {
   "codemirror_mode": {
    "name": "ipython",
    "version": 3
   },
   "file_extension": ".py",
   "mimetype": "text/x-python",
   "name": "python",
   "nbconvert_exporter": "python",
   "pygments_lexer": "ipython3",
   "version": "3.6.3"
  }
 },
 "nbformat": 4,
 "nbformat_minor": 2
}
